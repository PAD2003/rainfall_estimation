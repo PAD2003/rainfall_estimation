{
 "cells": [
  {
   "cell_type": "code",
   "execution_count": null,
   "metadata": {},
   "outputs": [],
   "source": [
    "# target: (link from himawari, link from radar)"
   ]
  },
  {
   "cell_type": "code",
   "execution_count": 1,
   "metadata": {},
   "outputs": [],
   "source": [
    "from typing import Tuple, List\n",
    "import os"
   ]
  },
  {
   "cell_type": "code",
   "execution_count": 2,
   "metadata": {},
   "outputs": [
    {
     "name": "stdout",
     "output_type": "stream",
     "text": [
      "[('data/Dataset3/himawari/2020/10/09/05', 'data/Dataset3/radar/2020/10/09/05'), ('data/Dataset3/himawari/2020/10/09/00', 'data/Dataset3/radar/2020/10/09/00'), ('data/Dataset3/himawari/2020/10/09/09', 'data/Dataset3/radar/2020/10/09/09'), ('data/Dataset3/himawari/2020/10/09/13', 'data/Dataset3/radar/2020/10/09/13'), ('data/Dataset3/himawari/2020/10/09/12', 'data/Dataset3/radar/2020/10/09/12'), ('data/Dataset3/himawari/2020/10/09/20', 'data/Dataset3/radar/2020/10/09/20'), ('data/Dataset3/himawari/2020/10/09/06', 'data/Dataset3/radar/2020/10/09/06'), ('data/Dataset3/himawari/2020/10/09/22', 'data/Dataset3/radar/2020/10/09/22'), ('data/Dataset3/himawari/2020/10/09/10', 'data/Dataset3/radar/2020/10/09/10'), ('data/Dataset3/himawari/2020/10/09/18', 'data/Dataset3/radar/2020/10/09/18'), ('data/Dataset3/himawari/2020/10/09/16', 'data/Dataset3/radar/2020/10/09/16'), ('data/Dataset3/himawari/2020/10/09/14', 'data/Dataset3/radar/2020/10/09/14'), ('data/Dataset3/himawari/2020/10/09/19', 'data/Dataset3/radar/2020/10/09/19'), ('data/Dataset3/himawari/2020/10/09/04', 'data/Dataset3/radar/2020/10/09/04'), ('data/Dataset3/himawari/2020/10/09/11', 'data/Dataset3/radar/2020/10/09/11'), ('data/Dataset3/himawari/2020/10/09/02', 'data/Dataset3/radar/2020/10/09/02'), ('data/Dataset3/himawari/2020/10/09/01', 'data/Dataset3/radar/2020/10/09/01'), ('data/Dataset3/himawari/2020/10/09/07', 'data/Dataset3/radar/2020/10/09/07'), ('data/Dataset3/himawari/2020/10/09/21', 'data/Dataset3/radar/2020/10/09/21'), ('data/Dataset3/himawari/2020/10/09/03', 'data/Dataset3/radar/2020/10/09/03'), ('data/Dataset3/himawari/2020/10/09/08', 'data/Dataset3/radar/2020/10/09/08'), ('data/Dataset3/himawari/2020/10/09/23', 'data/Dataset3/radar/2020/10/09/23'), ('data/Dataset3/himawari/2020/10/09/15', 'data/Dataset3/radar/2020/10/09/15'), ('data/Dataset3/himawari/2020/10/09/17', 'data/Dataset3/radar/2020/10/09/17'), ('data/Dataset3/himawari/2020/10/20/05', 'data/Dataset3/radar/2020/10/20/05'), ('data/Dataset3/himawari/2020/10/20/00', 'data/Dataset3/radar/2020/10/20/00'), ('data/Dataset3/himawari/2020/10/20/09', 'data/Dataset3/radar/2020/10/20/09'), ('data/Dataset3/himawari/2020/10/20/13', 'data/Dataset3/radar/2020/10/20/13'), ('data/Dataset3/himawari/2020/10/20/12', 'data/Dataset3/radar/2020/10/20/12'), ('data/Dataset3/himawari/2020/10/20/20', 'data/Dataset3/radar/2020/10/20/20'), ('data/Dataset3/himawari/2020/10/20/06', 'data/Dataset3/radar/2020/10/20/06'), ('data/Dataset3/himawari/2020/10/20/22', 'data/Dataset3/radar/2020/10/20/22'), ('data/Dataset3/himawari/2020/10/20/10', 'data/Dataset3/radar/2020/10/20/10'), ('data/Dataset3/himawari/2020/10/20/18', 'data/Dataset3/radar/2020/10/20/18'), ('data/Dataset3/himawari/2020/10/20/16', 'data/Dataset3/radar/2020/10/20/16'), ('data/Dataset3/himawari/2020/10/20/14', 'data/Dataset3/radar/2020/10/20/14'), ('data/Dataset3/himawari/2020/10/20/19', 'data/Dataset3/radar/2020/10/20/19'), ('data/Dataset3/himawari/2020/10/20/04', 'data/Dataset3/radar/2020/10/20/04'), ('data/Dataset3/himawari/2020/10/20/11', 'data/Dataset3/radar/2020/10/20/11'), ('data/Dataset3/himawari/2020/10/20/02', 'data/Dataset3/radar/2020/10/20/02'), ('data/Dataset3/himawari/2020/10/20/01', 'data/Dataset3/radar/2020/10/20/01'), ('data/Dataset3/himawari/2020/10/20/07', 'data/Dataset3/radar/2020/10/20/07'), ('data/Dataset3/himawari/2020/10/20/21', 'data/Dataset3/radar/2020/10/20/21'), ('data/Dataset3/himawari/2020/10/20/03', 'data/Dataset3/radar/2020/10/20/03'), ('data/Dataset3/himawari/2020/10/20/23', 'data/Dataset3/radar/2020/10/20/23'), ('data/Dataset3/himawari/2020/10/20/15', 'data/Dataset3/radar/2020/10/20/15'), ('data/Dataset3/himawari/2020/10/20/17', 'data/Dataset3/radar/2020/10/20/17'), ('data/Dataset3/himawari/2020/10/06/05', 'data/Dataset3/radar/2020/10/06/05'), ('data/Dataset3/himawari/2020/10/06/00', 'data/Dataset3/radar/2020/10/06/00'), ('data/Dataset3/himawari/2020/10/06/09', 'data/Dataset3/radar/2020/10/06/09'), ('data/Dataset3/himawari/2020/10/06/13', 'data/Dataset3/radar/2020/10/06/13'), ('data/Dataset3/himawari/2020/10/06/12', 'data/Dataset3/radar/2020/10/06/12'), ('data/Dataset3/himawari/2020/10/06/20', 'data/Dataset3/radar/2020/10/06/20'), ('data/Dataset3/himawari/2020/10/06/06', 'data/Dataset3/radar/2020/10/06/06'), ('data/Dataset3/himawari/2020/10/06/22', 'data/Dataset3/radar/2020/10/06/22'), ('data/Dataset3/himawari/2020/10/06/10', 'data/Dataset3/radar/2020/10/06/10'), ('data/Dataset3/himawari/2020/10/06/18', 'data/Dataset3/radar/2020/10/06/18'), ('data/Dataset3/himawari/2020/10/06/16', 'data/Dataset3/radar/2020/10/06/16'), ('data/Dataset3/himawari/2020/10/06/14', 'data/Dataset3/radar/2020/10/06/14'), ('data/Dataset3/himawari/2020/10/06/19', 'data/Dataset3/radar/2020/10/06/19'), ('data/Dataset3/himawari/2020/10/06/04', 'data/Dataset3/radar/2020/10/06/04'), ('data/Dataset3/himawari/2020/10/06/11', 'data/Dataset3/radar/2020/10/06/11'), ('data/Dataset3/himawari/2020/10/06/02', 'data/Dataset3/radar/2020/10/06/02'), ('data/Dataset3/himawari/2020/10/06/01', 'data/Dataset3/radar/2020/10/06/01'), ('data/Dataset3/himawari/2020/10/06/07', 'data/Dataset3/radar/2020/10/06/07'), ('data/Dataset3/himawari/2020/10/06/21', 'data/Dataset3/radar/2020/10/06/21'), ('data/Dataset3/himawari/2020/10/06/03', 'data/Dataset3/radar/2020/10/06/03'), ('data/Dataset3/himawari/2020/10/06/08', 'data/Dataset3/radar/2020/10/06/08'), ('data/Dataset3/himawari/2020/10/06/23', 'data/Dataset3/radar/2020/10/06/23'), ('data/Dataset3/himawari/2020/10/06/15', 'data/Dataset3/radar/2020/10/06/15'), ('data/Dataset3/himawari/2020/10/06/17', 'data/Dataset3/radar/2020/10/06/17'), ('data/Dataset3/himawari/2020/10/10/05', 'data/Dataset3/radar/2020/10/10/05'), ('data/Dataset3/himawari/2020/10/10/00', 'data/Dataset3/radar/2020/10/10/00'), ('data/Dataset3/himawari/2020/10/10/09', 'data/Dataset3/radar/2020/10/10/09'), ('data/Dataset3/himawari/2020/10/10/13', 'data/Dataset3/radar/2020/10/10/13'), ('data/Dataset3/himawari/2020/10/10/12', 'data/Dataset3/radar/2020/10/10/12'), ('data/Dataset3/himawari/2020/10/10/20', 'data/Dataset3/radar/2020/10/10/20'), ('data/Dataset3/himawari/2020/10/10/06', 'data/Dataset3/radar/2020/10/10/06'), ('data/Dataset3/himawari/2020/10/10/22', 'data/Dataset3/radar/2020/10/10/22'), ('data/Dataset3/himawari/2020/10/10/10', 'data/Dataset3/radar/2020/10/10/10'), ('data/Dataset3/himawari/2020/10/10/18', 'data/Dataset3/radar/2020/10/10/18'), ('data/Dataset3/himawari/2020/10/10/16', 'data/Dataset3/radar/2020/10/10/16'), ('data/Dataset3/himawari/2020/10/10/14', 'data/Dataset3/radar/2020/10/10/14'), ('data/Dataset3/himawari/2020/10/10/19', 'data/Dataset3/radar/2020/10/10/19'), ('data/Dataset3/himawari/2020/10/10/04', 'data/Dataset3/radar/2020/10/10/04'), ('data/Dataset3/himawari/2020/10/10/11', 'data/Dataset3/radar/2020/10/10/11'), ('data/Dataset3/himawari/2020/10/10/02', 'data/Dataset3/radar/2020/10/10/02'), ('data/Dataset3/himawari/2020/10/10/01', 'data/Dataset3/radar/2020/10/10/01'), ('data/Dataset3/himawari/2020/10/10/07', 'data/Dataset3/radar/2020/10/10/07'), ('data/Dataset3/himawari/2020/10/10/21', 'data/Dataset3/radar/2020/10/10/21'), ('data/Dataset3/himawari/2020/10/10/03', 'data/Dataset3/radar/2020/10/10/03'), ('data/Dataset3/himawari/2020/10/10/08', 'data/Dataset3/radar/2020/10/10/08'), ('data/Dataset3/himawari/2020/10/10/23', 'data/Dataset3/radar/2020/10/10/23'), ('data/Dataset3/himawari/2020/10/10/15', 'data/Dataset3/radar/2020/10/10/15'), ('data/Dataset3/himawari/2020/10/10/17', 'data/Dataset3/radar/2020/10/10/17'), ('data/Dataset3/himawari/2020/10/18/05', 'data/Dataset3/radar/2020/10/18/05'), ('data/Dataset3/himawari/2020/10/18/00', 'data/Dataset3/radar/2020/10/18/00'), ('data/Dataset3/himawari/2020/10/18/09', 'data/Dataset3/radar/2020/10/18/09'), ('data/Dataset3/himawari/2020/10/18/13', 'data/Dataset3/radar/2020/10/18/13'), ('data/Dataset3/himawari/2020/10/18/12', 'data/Dataset3/radar/2020/10/18/12'), ('data/Dataset3/himawari/2020/10/18/20', 'data/Dataset3/radar/2020/10/18/20'), ('data/Dataset3/himawari/2020/10/18/06', 'data/Dataset3/radar/2020/10/18/06'), ('data/Dataset3/himawari/2020/10/18/22', 'data/Dataset3/radar/2020/10/18/22'), ('data/Dataset3/himawari/2020/10/18/10', 'data/Dataset3/radar/2020/10/18/10'), ('data/Dataset3/himawari/2020/10/18/18', 'data/Dataset3/radar/2020/10/18/18'), ('data/Dataset3/himawari/2020/10/18/16', 'data/Dataset3/radar/2020/10/18/16'), ('data/Dataset3/himawari/2020/10/18/14', 'data/Dataset3/radar/2020/10/18/14'), ('data/Dataset3/himawari/2020/10/18/19', 'data/Dataset3/radar/2020/10/18/19'), ('data/Dataset3/himawari/2020/10/18/04', 'data/Dataset3/radar/2020/10/18/04'), ('data/Dataset3/himawari/2020/10/18/11', 'data/Dataset3/radar/2020/10/18/11'), ('data/Dataset3/himawari/2020/10/18/02', 'data/Dataset3/radar/2020/10/18/02'), ('data/Dataset3/himawari/2020/10/18/01', 'data/Dataset3/radar/2020/10/18/01'), ('data/Dataset3/himawari/2020/10/18/07', 'data/Dataset3/radar/2020/10/18/07'), ('data/Dataset3/himawari/2020/10/18/21', 'data/Dataset3/radar/2020/10/18/21'), ('data/Dataset3/himawari/2020/10/18/03', 'data/Dataset3/radar/2020/10/18/03'), ('data/Dataset3/himawari/2020/10/18/08', 'data/Dataset3/radar/2020/10/18/08'), ('data/Dataset3/himawari/2020/10/18/23', 'data/Dataset3/radar/2020/10/18/23'), ('data/Dataset3/himawari/2020/10/18/15', 'data/Dataset3/radar/2020/10/18/15'), ('data/Dataset3/himawari/2020/10/18/17', 'data/Dataset3/radar/2020/10/18/17'), ('data/Dataset3/himawari/2020/10/16/05', 'data/Dataset3/radar/2020/10/16/05'), ('data/Dataset3/himawari/2020/10/16/00', 'data/Dataset3/radar/2020/10/16/00'), ('data/Dataset3/himawari/2020/10/16/09', 'data/Dataset3/radar/2020/10/16/09'), ('data/Dataset3/himawari/2020/10/16/13', 'data/Dataset3/radar/2020/10/16/13'), ('data/Dataset3/himawari/2020/10/16/12', 'data/Dataset3/radar/2020/10/16/12'), ('data/Dataset3/himawari/2020/10/16/20', 'data/Dataset3/radar/2020/10/16/20'), ('data/Dataset3/himawari/2020/10/16/06', 'data/Dataset3/radar/2020/10/16/06'), ('data/Dataset3/himawari/2020/10/16/22', 'data/Dataset3/radar/2020/10/16/22'), ('data/Dataset3/himawari/2020/10/16/10', 'data/Dataset3/radar/2020/10/16/10'), ('data/Dataset3/himawari/2020/10/16/18', 'data/Dataset3/radar/2020/10/16/18'), ('data/Dataset3/himawari/2020/10/16/16', 'data/Dataset3/radar/2020/10/16/16'), ('data/Dataset3/himawari/2020/10/16/14', 'data/Dataset3/radar/2020/10/16/14'), ('data/Dataset3/himawari/2020/10/16/19', 'data/Dataset3/radar/2020/10/16/19'), ('data/Dataset3/himawari/2020/10/16/04', 'data/Dataset3/radar/2020/10/16/04'), ('data/Dataset3/himawari/2020/10/16/11', 'data/Dataset3/radar/2020/10/16/11'), ('data/Dataset3/himawari/2020/10/16/02', 'data/Dataset3/radar/2020/10/16/02'), ('data/Dataset3/himawari/2020/10/16/01', 'data/Dataset3/radar/2020/10/16/01'), ('data/Dataset3/himawari/2020/10/16/07', 'data/Dataset3/radar/2020/10/16/07'), ('data/Dataset3/himawari/2020/10/16/21', 'data/Dataset3/radar/2020/10/16/21'), ('data/Dataset3/himawari/2020/10/16/03', 'data/Dataset3/radar/2020/10/16/03'), ('data/Dataset3/himawari/2020/10/16/08', 'data/Dataset3/radar/2020/10/16/08'), ('data/Dataset3/himawari/2020/10/16/23', 'data/Dataset3/radar/2020/10/16/23'), ('data/Dataset3/himawari/2020/10/16/15', 'data/Dataset3/radar/2020/10/16/15'), ('data/Dataset3/himawari/2020/10/16/17', 'data/Dataset3/radar/2020/10/16/17'), ('data/Dataset3/himawari/2020/10/19/05', 'data/Dataset3/radar/2020/10/19/05'), ('data/Dataset3/himawari/2020/10/19/00', 'data/Dataset3/radar/2020/10/19/00'), ('data/Dataset3/himawari/2020/10/19/09', 'data/Dataset3/radar/2020/10/19/09'), ('data/Dataset3/himawari/2020/10/19/13', 'data/Dataset3/radar/2020/10/19/13'), ('data/Dataset3/himawari/2020/10/19/12', 'data/Dataset3/radar/2020/10/19/12'), ('data/Dataset3/himawari/2020/10/19/20', 'data/Dataset3/radar/2020/10/19/20'), ('data/Dataset3/himawari/2020/10/19/06', 'data/Dataset3/radar/2020/10/19/06'), ('data/Dataset3/himawari/2020/10/19/22', 'data/Dataset3/radar/2020/10/19/22'), ('data/Dataset3/himawari/2020/10/19/10', 'data/Dataset3/radar/2020/10/19/10'), ('data/Dataset3/himawari/2020/10/19/18', 'data/Dataset3/radar/2020/10/19/18'), ('data/Dataset3/himawari/2020/10/19/16', 'data/Dataset3/radar/2020/10/19/16'), ('data/Dataset3/himawari/2020/10/19/14', 'data/Dataset3/radar/2020/10/19/14'), ('data/Dataset3/himawari/2020/10/19/19', 'data/Dataset3/radar/2020/10/19/19'), ('data/Dataset3/himawari/2020/10/19/04', 'data/Dataset3/radar/2020/10/19/04'), ('data/Dataset3/himawari/2020/10/19/11', 'data/Dataset3/radar/2020/10/19/11'), ('data/Dataset3/himawari/2020/10/19/02', 'data/Dataset3/radar/2020/10/19/02'), ('data/Dataset3/himawari/2020/10/19/01', 'data/Dataset3/radar/2020/10/19/01'), ('data/Dataset3/himawari/2020/10/19/07', 'data/Dataset3/radar/2020/10/19/07'), ('data/Dataset3/himawari/2020/10/19/21', 'data/Dataset3/radar/2020/10/19/21'), ('data/Dataset3/himawari/2020/10/19/03', 'data/Dataset3/radar/2020/10/19/03'), ('data/Dataset3/himawari/2020/10/19/08', 'data/Dataset3/radar/2020/10/19/08'), ('data/Dataset3/himawari/2020/10/19/23', 'data/Dataset3/radar/2020/10/19/23'), ('data/Dataset3/himawari/2020/10/19/15', 'data/Dataset3/radar/2020/10/19/15'), ('data/Dataset3/himawari/2020/10/19/17', 'data/Dataset3/radar/2020/10/19/17'), ('data/Dataset3/himawari/2020/10/07/05', 'data/Dataset3/radar/2020/10/07/05'), ('data/Dataset3/himawari/2020/10/07/00', 'data/Dataset3/radar/2020/10/07/00'), ('data/Dataset3/himawari/2020/10/07/09', 'data/Dataset3/radar/2020/10/07/09'), ('data/Dataset3/himawari/2020/10/07/13', 'data/Dataset3/radar/2020/10/07/13'), ('data/Dataset3/himawari/2020/10/07/12', 'data/Dataset3/radar/2020/10/07/12'), ('data/Dataset3/himawari/2020/10/07/20', 'data/Dataset3/radar/2020/10/07/20'), ('data/Dataset3/himawari/2020/10/07/06', 'data/Dataset3/radar/2020/10/07/06'), ('data/Dataset3/himawari/2020/10/07/22', 'data/Dataset3/radar/2020/10/07/22'), ('data/Dataset3/himawari/2020/10/07/10', 'data/Dataset3/radar/2020/10/07/10'), ('data/Dataset3/himawari/2020/10/07/18', 'data/Dataset3/radar/2020/10/07/18'), ('data/Dataset3/himawari/2020/10/07/16', 'data/Dataset3/radar/2020/10/07/16'), ('data/Dataset3/himawari/2020/10/07/14', 'data/Dataset3/radar/2020/10/07/14'), ('data/Dataset3/himawari/2020/10/07/19', 'data/Dataset3/radar/2020/10/07/19'), ('data/Dataset3/himawari/2020/10/07/04', 'data/Dataset3/radar/2020/10/07/04'), ('data/Dataset3/himawari/2020/10/07/11', 'data/Dataset3/radar/2020/10/07/11'), ('data/Dataset3/himawari/2020/10/07/02', 'data/Dataset3/radar/2020/10/07/02'), ('data/Dataset3/himawari/2020/10/07/01', 'data/Dataset3/radar/2020/10/07/01'), ('data/Dataset3/himawari/2020/10/07/07', 'data/Dataset3/radar/2020/10/07/07'), ('data/Dataset3/himawari/2020/10/07/21', 'data/Dataset3/radar/2020/10/07/21'), ('data/Dataset3/himawari/2020/10/07/03', 'data/Dataset3/radar/2020/10/07/03'), ('data/Dataset3/himawari/2020/10/07/08', 'data/Dataset3/radar/2020/10/07/08'), ('data/Dataset3/himawari/2020/10/07/23', 'data/Dataset3/radar/2020/10/07/23'), ('data/Dataset3/himawari/2020/10/07/15', 'data/Dataset3/radar/2020/10/07/15'), ('data/Dataset3/himawari/2020/10/07/17', 'data/Dataset3/radar/2020/10/07/17'), ('data/Dataset3/himawari/2020/10/08/05', 'data/Dataset3/radar/2020/10/08/05'), ('data/Dataset3/himawari/2020/10/08/00', 'data/Dataset3/radar/2020/10/08/00'), ('data/Dataset3/himawari/2020/10/08/09', 'data/Dataset3/radar/2020/10/08/09'), ('data/Dataset3/himawari/2020/10/08/13', 'data/Dataset3/radar/2020/10/08/13'), ('data/Dataset3/himawari/2020/10/08/12', 'data/Dataset3/radar/2020/10/08/12'), ('data/Dataset3/himawari/2020/10/08/20', 'data/Dataset3/radar/2020/10/08/20'), ('data/Dataset3/himawari/2020/10/08/06', 'data/Dataset3/radar/2020/10/08/06'), ('data/Dataset3/himawari/2020/10/08/22', 'data/Dataset3/radar/2020/10/08/22'), ('data/Dataset3/himawari/2020/10/08/10', 'data/Dataset3/radar/2020/10/08/10'), ('data/Dataset3/himawari/2020/10/08/18', 'data/Dataset3/radar/2020/10/08/18'), ('data/Dataset3/himawari/2020/10/08/16', 'data/Dataset3/radar/2020/10/08/16'), ('data/Dataset3/himawari/2020/10/08/14', 'data/Dataset3/radar/2020/10/08/14'), ('data/Dataset3/himawari/2020/10/08/19', 'data/Dataset3/radar/2020/10/08/19'), ('data/Dataset3/himawari/2020/10/08/04', 'data/Dataset3/radar/2020/10/08/04'), ('data/Dataset3/himawari/2020/10/08/11', 'data/Dataset3/radar/2020/10/08/11'), ('data/Dataset3/himawari/2020/10/08/02', 'data/Dataset3/radar/2020/10/08/02'), ('data/Dataset3/himawari/2020/10/08/01', 'data/Dataset3/radar/2020/10/08/01'), ('data/Dataset3/himawari/2020/10/08/07', 'data/Dataset3/radar/2020/10/08/07'), ('data/Dataset3/himawari/2020/10/08/21', 'data/Dataset3/radar/2020/10/08/21'), ('data/Dataset3/himawari/2020/10/08/03', 'data/Dataset3/radar/2020/10/08/03'), ('data/Dataset3/himawari/2020/10/08/08', 'data/Dataset3/radar/2020/10/08/08'), ('data/Dataset3/himawari/2020/10/08/23', 'data/Dataset3/radar/2020/10/08/23'), ('data/Dataset3/himawari/2020/10/08/15', 'data/Dataset3/radar/2020/10/08/15'), ('data/Dataset3/himawari/2020/10/08/17', 'data/Dataset3/radar/2020/10/08/17'), ('data/Dataset3/himawari/2020/10/15/05', 'data/Dataset3/radar/2020/10/15/05'), ('data/Dataset3/himawari/2020/10/15/00', 'data/Dataset3/radar/2020/10/15/00'), ('data/Dataset3/himawari/2020/10/15/09', 'data/Dataset3/radar/2020/10/15/09'), ('data/Dataset3/himawari/2020/10/15/13', 'data/Dataset3/radar/2020/10/15/13'), ('data/Dataset3/himawari/2020/10/15/12', 'data/Dataset3/radar/2020/10/15/12'), ('data/Dataset3/himawari/2020/10/15/20', 'data/Dataset3/radar/2020/10/15/20'), ('data/Dataset3/himawari/2020/10/15/06', 'data/Dataset3/radar/2020/10/15/06'), ('data/Dataset3/himawari/2020/10/15/22', 'data/Dataset3/radar/2020/10/15/22'), ('data/Dataset3/himawari/2020/10/15/10', 'data/Dataset3/radar/2020/10/15/10'), ('data/Dataset3/himawari/2020/10/15/18', 'data/Dataset3/radar/2020/10/15/18'), ('data/Dataset3/himawari/2020/10/15/16', 'data/Dataset3/radar/2020/10/15/16'), ('data/Dataset3/himawari/2020/10/15/14', 'data/Dataset3/radar/2020/10/15/14'), ('data/Dataset3/himawari/2020/10/15/19', 'data/Dataset3/radar/2020/10/15/19'), ('data/Dataset3/himawari/2020/10/15/04', 'data/Dataset3/radar/2020/10/15/04'), ('data/Dataset3/himawari/2020/10/15/11', 'data/Dataset3/radar/2020/10/15/11'), ('data/Dataset3/himawari/2020/10/15/02', 'data/Dataset3/radar/2020/10/15/02'), ('data/Dataset3/himawari/2020/10/15/01', 'data/Dataset3/radar/2020/10/15/01'), ('data/Dataset3/himawari/2020/10/15/07', 'data/Dataset3/radar/2020/10/15/07'), ('data/Dataset3/himawari/2020/10/15/21', 'data/Dataset3/radar/2020/10/15/21'), ('data/Dataset3/himawari/2020/10/15/03', 'data/Dataset3/radar/2020/10/15/03'), ('data/Dataset3/himawari/2020/10/15/08', 'data/Dataset3/radar/2020/10/15/08'), ('data/Dataset3/himawari/2020/10/15/23', 'data/Dataset3/radar/2020/10/15/23'), ('data/Dataset3/himawari/2020/10/15/15', 'data/Dataset3/radar/2020/10/15/15'), ('data/Dataset3/himawari/2020/10/15/17', 'data/Dataset3/radar/2020/10/15/17'), ('data/Dataset3/himawari/2020/10/17/05', 'data/Dataset3/radar/2020/10/17/05'), ('data/Dataset3/himawari/2020/10/17/00', 'data/Dataset3/radar/2020/10/17/00'), ('data/Dataset3/himawari/2020/10/17/09', 'data/Dataset3/radar/2020/10/17/09'), ('data/Dataset3/himawari/2020/10/17/13', 'data/Dataset3/radar/2020/10/17/13'), ('data/Dataset3/himawari/2020/10/17/12', 'data/Dataset3/radar/2020/10/17/12'), ('data/Dataset3/himawari/2020/10/17/20', 'data/Dataset3/radar/2020/10/17/20'), ('data/Dataset3/himawari/2020/10/17/06', 'data/Dataset3/radar/2020/10/17/06'), ('data/Dataset3/himawari/2020/10/17/22', 'data/Dataset3/radar/2020/10/17/22'), ('data/Dataset3/himawari/2020/10/17/10', 'data/Dataset3/radar/2020/10/17/10'), ('data/Dataset3/himawari/2020/10/17/18', 'data/Dataset3/radar/2020/10/17/18'), ('data/Dataset3/himawari/2020/10/17/16', 'data/Dataset3/radar/2020/10/17/16'), ('data/Dataset3/himawari/2020/10/17/14', 'data/Dataset3/radar/2020/10/17/14'), ('data/Dataset3/himawari/2020/10/17/19', 'data/Dataset3/radar/2020/10/17/19'), ('data/Dataset3/himawari/2020/10/17/04', 'data/Dataset3/radar/2020/10/17/04'), ('data/Dataset3/himawari/2020/10/17/11', 'data/Dataset3/radar/2020/10/17/11'), ('data/Dataset3/himawari/2020/10/17/02', 'data/Dataset3/radar/2020/10/17/02'), ('data/Dataset3/himawari/2020/10/17/01', 'data/Dataset3/radar/2020/10/17/01'), ('data/Dataset3/himawari/2020/10/17/07', 'data/Dataset3/radar/2020/10/17/07'), ('data/Dataset3/himawari/2020/10/17/21', 'data/Dataset3/radar/2020/10/17/21'), ('data/Dataset3/himawari/2020/10/17/03', 'data/Dataset3/radar/2020/10/17/03'), ('data/Dataset3/himawari/2020/10/17/08', 'data/Dataset3/radar/2020/10/17/08'), ('data/Dataset3/himawari/2020/10/17/23', 'data/Dataset3/radar/2020/10/17/23'), ('data/Dataset3/himawari/2020/10/17/15', 'data/Dataset3/radar/2020/10/17/15'), ('data/Dataset3/himawari/2020/10/17/17', 'data/Dataset3/radar/2020/10/17/17')]\n"
     ]
    }
   ],
   "source": [
    "def data() -> List[Tuple[str, str]]:\n",
    "    radar_dir = \"../data/Dataset3/radar\"\n",
    "    \n",
    "    result = []\n",
    "    \n",
    "    for root, dirs, files in os.walk(radar_dir):\n",
    "        for file in files:\n",
    "            if file.endswith(\".tif\"):\n",
    "                path = os.path.join(root, file)\n",
    "                folder_path = os.path.dirname(path)\n",
    "                folder_path = \"/\".join(folder_path.split(\"/\")[4:])\n",
    "                result.append((f\"data/Dataset3/himawari/{folder_path}\", f\"data/Dataset3/radar/{folder_path}\"))\n",
    "    \n",
    "    return result\n",
    "\n",
    "result = data()\n",
    "print(result)"
   ]
  },
  {
   "cell_type": "code",
   "execution_count": 3,
   "metadata": {},
   "outputs": [
    {
     "data": {
      "text/plain": [
       "('data/Dataset3/himawari/2020/10/09/05', 'data/Dataset3/radar/2020/10/09/05')"
      ]
     },
     "execution_count": 3,
     "metadata": {},
     "output_type": "execute_result"
    }
   ],
   "source": [
    "test = result[0]\n",
    "test"
   ]
  },
  {
   "cell_type": "code",
   "execution_count": 4,
   "metadata": {},
   "outputs": [],
   "source": [
    "import torch\n",
    "from PIL import Image\n",
    "import numpy as np\n",
    "from torchvision import transforms\n",
    "from torchvision.transforms import ToTensor\n",
    "\n",
    "def features(feature_dir)->torch.Tensor:\n",
    "    res = []\n",
    "\n",
    "    for path in os.listdir(feature_dir):\n",
    "        image_path = os.path.join(feature_dir, path)\n",
    "        image = Image.open(image_path)\n",
    "        tensor_image = ToTensor()(image).squeeze()\n",
    "        res.append(tensor_image)\n",
    "\n",
    "    return torch.stack(res)\n"
   ]
  },
  {
   "cell_type": "code",
   "execution_count": 14,
   "metadata": {},
   "outputs": [
    {
     "name": "stdout",
     "output_type": "stream",
     "text": [
      "torch.Size([10, 512, 512])\n"
     ]
    }
   ],
   "source": [
    "res = features(\"../data/Dataset3/himawari/2020/10/06/00/\")\n",
    "print(res.shape)"
   ]
  },
  {
   "cell_type": "code",
   "execution_count": null,
   "metadata": {},
   "outputs": [],
   "source": []
  }
 ],
 "metadata": {
  "kernelspec": {
   "display_name": "rep",
   "language": "python",
   "name": "python3"
  },
  "language_info": {
   "codemirror_mode": {
    "name": "ipython",
    "version": 3
   },
   "file_extension": ".py",
   "mimetype": "text/x-python",
   "name": "python",
   "nbconvert_exporter": "python",
   "pygments_lexer": "ipython3",
   "version": "3.9.16"
  },
  "orig_nbformat": 4
 },
 "nbformat": 4,
 "nbformat_minor": 2
}
